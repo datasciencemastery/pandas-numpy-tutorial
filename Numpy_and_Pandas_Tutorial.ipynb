{
  "nbformat": 4,
  "nbformat_minor": 0,
  "metadata": {
    "colab": {
      "name": "Numpy  and Pandas Tutorial.ipynb",
      "version": "0.3.2",
      "provenance": [],
      "collapsed_sections": [],
      "include_colab_link": true
    },
    "kernelspec": {
      "name": "python3",
      "display_name": "Python 3"
    }
  },
  "cells": [
    {
      "cell_type": "markdown",
      "metadata": {
        "id": "view-in-github",
        "colab_type": "text"
      },
      "source": [
        "[View in Colaboratory](https://colab.research.google.com/github/datasciencemastery/pandas-numpy-tutorial/blob/master/Numpy_and_Pandas_Tutorial.ipynb)"
      ]
    },
    {
      "metadata": {
        "id": "zse4grLxIwhU",
        "colab_type": "text"
      },
      "cell_type": "markdown",
      "source": [
        "# Numpy"
      ]
    },
    {
      "metadata": {
        "id": "SkQ-X7TDORz8",
        "colab_type": "text"
      },
      "cell_type": "markdown",
      "source": [
        "A numpy array is a grid of values, all of the same type, and is indexed by a tuple of nonnegative integers. The number of dimensions is the rank of the array; the shape of an array is a tuple of integers giving the size of the array along each dimension.\n",
        "\n",
        "We can initialize numpy arrays from nested Python lists, and access elements using square brackets:"
      ]
    },
    {
      "metadata": {
        "id": "u5t4u4A_NMwM",
        "colab_type": "code",
        "colab": {}
      },
      "cell_type": "code",
      "source": [
        "import numpy as np\n",
        "\n",
        "a = np.array([100, 200, 300])   #Rank 1 array\n",
        "print(type(a))            # Prints \"<class 'numpy.ndarray'>\"\n",
        "print(a.shape)            # Prints \"(3,)\"\n",
        "print(a.ndim)             # Prints 1\n",
        "\n",
        "print(a[0], a[1], a[2])   # Prints \"100 200 300\"\n",
        "\n",
        "a[0] = 500                  # Change an element of the array\n",
        "print(a)                  # Prints \"[500, 200, 300]\"\n",
        "\n",
        "b = np.array([[1,2,3],[4,5,6]])    # Create a rank 2 array\n",
        "print(b.shape)   # Prints \"(2, 3)\"\n",
        "print (b.ndim)   # Prints 2\n",
        "print(b[0, 0], b[0, 1], b[1, 0])   # Prints \"1 2 4\""
      ],
      "execution_count": 0,
      "outputs": []
    },
    {
      "metadata": {
        "id": "NqpX_wTnPZuE",
        "colab_type": "text"
      },
      "cell_type": "markdown",
      "source": [
        "https://www.quora.com/In-Python-NumPy-what-is-a-dimension-and-axis\n"
      ]
    },
    {
      "metadata": {
        "id": "gOuV7xy1bUUp",
        "colab_type": "code",
        "colab": {}
      },
      "cell_type": "code",
      "source": [
        "# Numpy Matrix Operations\n",
        "\n",
        "import numpy as np\n",
        "\n",
        "\n",
        "#   1 2      5 6      6  8\n",
        "#         +        =    \n",
        "#   3 4      7 8      10 12 \n",
        "\n",
        "x = np.array([[1,2],[3,4]], dtype=np.float64)\n",
        "y = np.array([[5,6],[7,8]], dtype=np.float64)\n",
        "\n",
        "# Elementwise sum; both produce the array\n",
        "# [[ 6.0  8.0]\n",
        "#  [10.0 12.0]]\n",
        "print(x + y)\n",
        "print(np.add(x, y))\n",
        "\n",
        "\n",
        "#   1 2      5 6      -4  -4\n",
        "#         -        =    \n",
        "#   3 4      7 8      -4  -4 \n",
        "\n",
        "\n",
        "# Elementwise difference; both produce the array\n",
        "# [[-4.0 -4.0]\n",
        "#  [-4.0 -4.0]]\n",
        "print(x - y)\n",
        "print(np.subtract(x, y))\n",
        "\n",
        "\n",
        "#   1 2      5 6       5  12\n",
        "#         *        =    \n",
        "#   3 4      7 8      21  32 \n",
        "\n",
        "\n",
        "# Elementwise product; both produce the array\n",
        "# [[ 5.0 12.0]\n",
        "#  [21.0 32.0]]\n",
        "print(x * y)\n",
        "print(np.multiply(x, y))\n",
        "\n",
        "# Elementwise division; both produce the array\n",
        "# [[ 0.2         0.33333333]\n",
        "#  [ 0.42857143  0.5       ]]\n",
        "\n",
        "#   1 2      5 6       0.2  0.3333\n",
        "#         /        =    \n",
        "#   3 4      7 8       0.428  0.5 \n",
        "\n",
        "print(x / y)\n",
        "print(np.divide(x, y))\n",
        "\n",
        "# Elementwise square root; produces the array\n",
        "# [[ 1.          1.41421356]\n",
        "#  [ 1.73205081  2.        ]]\n",
        "print(np.sqrt(x))"
      ],
      "execution_count": 0,
      "outputs": []
    },
    {
      "metadata": {
        "id": "Bg77wxLnObRW",
        "colab_type": "text"
      },
      "cell_type": "markdown",
      "source": [
        "[Google SpreadSheet Link](https://docs.google.com/spreadsheets/d/1yim_nrrNpWK0D_oBeP2aD94Z6mgzDVv8SXDT5AeoZvg/edit?usp=sharing)"
      ]
    },
    {
      "metadata": {
        "id": "QQKZ1zEai7Cd",
        "colab_type": "code",
        "colab": {}
      },
      "cell_type": "code",
      "source": [
        "import numpy as np\n",
        "\n",
        "x = np.array([[1,2],[3,4]])\n",
        "y = np.array([[5,6],[7,8]])\n",
        "\n",
        "v = np.array([9,10])\n",
        "w = np.array([11, 12])\n",
        "\n",
        "\n",
        "# 9 10  dot product   11 12\n",
        "\n",
        "\n",
        "\n",
        "# Inner product of vectors; both produce 219\n",
        "print(v.dot(w))\n",
        "print(np.dot(v, w))\n",
        "\n",
        "# Matrix / vector product; both produce the rank 1 array [29 67]\n",
        "print(x.dot(v))\n",
        "print(np.dot(x, v))\n",
        "\n",
        "# Matrix / matrix product; both produce the rank 2 array\n",
        "# [[19 22]\n",
        "#  [43 50]]\n",
        "print(x.dot(y))\n",
        "print(np.dot(x, y))"
      ],
      "execution_count": 0,
      "outputs": []
    },
    {
      "metadata": {
        "id": "sugq6FQQPi5c",
        "colab_type": "code",
        "colab": {}
      },
      "cell_type": "code",
      "source": [
        "import numpy as np\n",
        "\n",
        "a = np.zeros((2,2))   # Create an array of all zeros\n",
        "print(a,'\\n')              # Prints \"[[ 0.  0.]\n",
        "                      #          [ 0.  0.]]\"\n",
        "\n",
        "b = np.ones((1,2))    # Create an array of all ones\n",
        "print(b,'\\n')              # Prints \"[[ 1.  1.]]\"\n",
        "\n",
        "c = np.full((2,2), 7)  # Create a constant array\n",
        "print(c,'\\n')               # Prints \"[[ 7.  7.]\n",
        "                       #          [ 7.  7.]]\"\n",
        "\n",
        "d = np.eye(2)         # Create a 2x2 identity matrix\n",
        "print(d,'\\n')              # Prints \"[[ 1.  0.]\n",
        "                      #          [ 0.  1.]]\"\n",
        "\n",
        "e = np.random.random((2,2))  # Create an array filled with random values\n",
        "print(e,'\\n')                     # Might print \"[[ 0.91940167  0.08143941]\n",
        "                             #               [ 0.68744134  0.87236687]]\""
      ],
      "execution_count": 0,
      "outputs": []
    },
    {
      "metadata": {
        "id": "sbVoUzUCRvNo",
        "colab_type": "code",
        "colab": {}
      },
      "cell_type": "code",
      "source": [
        "# Similar to Python lists, numpy arrays can be sliced. Since arrays may be multidimensional, \n",
        "# you must specify a slice for each dimension of the array:\n",
        "\n",
        "\n",
        "import numpy as np\n",
        "\n",
        "# Create the following rank 2 array with shape (3, 4)\n",
        "# [[ 1  2  3  4]\n",
        "#  [ 5  6  7  8]\n",
        "#  [ 9 10 11 12]]\n",
        "a = np.array([[1,2,3,4], [5,6,7,8], [9,10,11,12]])\n",
        "\n",
        "# Use slicing to pull out the subarray consisting of the first 2 rows\n",
        "# and columns 1 and 2; b is the following array of shape (2, 2):\n",
        "# [[2 3]\n",
        "#  [6 7]]\n",
        "b = a[:2, 1:3]\n",
        "\n",
        "print (b,'\\n')\n",
        "\n",
        "# A slice of an array is a view into the same data, so modifying it\n",
        "# will modify the original array.\n",
        "print(a[0, 1])   # Prints \"2\"\n",
        "b[0, 0] = 77     # b[0, 0] is the same piece of data as a[0, 1]\n",
        "print(a[0, 1],'\\n')   # Prints \"77\"\n",
        "\n",
        "print (b,'\\n')\n",
        "\n",
        "print (a,'\\n')"
      ],
      "execution_count": 0,
      "outputs": []
    },
    {
      "metadata": {
        "id": "Gs-Q3V2siH65",
        "colab_type": "code",
        "colab": {}
      },
      "cell_type": "code",
      "source": [
        "# One can also mix integer indexing with slice indexing. \n",
        "# However, doing so will yield an array of lower rank than the original array\n",
        "\n",
        "\n",
        "import numpy as np\n",
        "\n",
        "# Create the following rank 2 array with shape (3, 4)\n",
        "# [[ 1  2  3  4]\n",
        "#  [ 5  6  7  8]\n",
        "#  [ 9 10 11 12]]\n",
        "a = np.array([[1,2,3,4], [5,6,7,8], [9,10,11,12]])\n",
        "\n",
        "# Two ways of accessing the data in the middle row of the array.\n",
        "# Mixing integer indexing with slices yields an array of lower rank,\n",
        "# while using only slices yields an array of the same rank as the\n",
        "# original array:\n",
        "row_r1 = a[1, :]    # Rank 1 view of the second row of a\n",
        "row_r2 = a[1:2, :]  # Rank 2 view of the second row of a\n",
        "print(row_r1, row_r1.shape)  # Prints \"[5 6 7 8] (4,)\"\n",
        "print(row_r2, row_r2.shape)  # Prints \"[[5 6 7 8]] (1, 4)\"\n",
        "\n",
        "# We can make the same distinction when accessing columns of an array:\n",
        "col_r1 = a[:, 1]\n",
        "col_r2 = a[:, 1:2]\n",
        "print(col_r1, col_r1.shape)  # Prints \"[ 2  6 10] (3,)\"\n",
        "print(col_r2, col_r2.shape)  # Prints \"[[ 2]\n",
        "                             #          [ 6]\n",
        "                             #          [10]] (3, 1)\""
      ],
      "execution_count": 0,
      "outputs": []
    },
    {
      "metadata": {
        "id": "TrTUI8XYk9QR",
        "colab_type": "code",
        "colab": {}
      },
      "cell_type": "code",
      "source": [
        "\n",
        "# Integer array indexing: When you index into numpy arrays using slicing, \n",
        "# the resulting array view will always be a subarray of the original array. \n",
        "# In contrast, integer array indexing allows you to construct arbitrary arrays using the data from another array. \n",
        "# Here is an example:\n",
        "  \n",
        "import numpy as np\n",
        "\n",
        "a = np.array([[1,2], [3, 4], [5, 6]])\n",
        "\n",
        "# An example of integer array indexing.\n",
        "# The returned array will have shape (3,) and\n",
        "print(a[[0, 1, 2], [0, 1, 0]])  # Prints \"[1 4 5]\"\n",
        "\n",
        "# The above example of integer array indexing is equivalent to this:\n",
        "print(np.array([a[0, 0], a[1, 1], a[2, 0]]))  # Prints \"[1 4 5]\"\n",
        "\n",
        "# When using integer array indexing, you can reuse the same\n",
        "# element from the source array:\n",
        "print(a[[0, 0], [1, 1]])  # Prints \"[2 2]\"\n",
        "\n",
        "# Equivalent to the previous integer array indexing example\n",
        "print(np.array([a[0, 1], a[0, 1]]))  # Prints \"[2 2]\""
      ],
      "execution_count": 0,
      "outputs": []
    },
    {
      "metadata": {
        "id": "u1GB7r0hf9tI",
        "colab_type": "code",
        "colab": {}
      },
      "cell_type": "code",
      "source": [
        ""
      ],
      "execution_count": 0,
      "outputs": []
    },
    {
      "metadata": {
        "id": "52Fvz_REqmx6",
        "colab_type": "code",
        "colab": {}
      },
      "cell_type": "code",
      "source": [
        "#Boolean array indexing: Boolean array indexing lets you pick out arbitrary elements of an array.\n",
        "#Frequently this type of indexing is used to select the elements of an array that satisfy some condition. \n",
        "\n",
        "\n",
        "import numpy as np\n",
        "\n",
        "a = np.array([[1,2], [3, 4], [5, 6]])\n",
        "\n",
        "bool_idx = (a > 2)   # Find the elements of a that are bigger than 2;\n",
        "                     # this returns a numpy array of Booleans of the same\n",
        "                     # shape as a, where each slot of bool_idx tells\n",
        "                     # whether that element of a is > 2.\n",
        "\n",
        "print(bool_idx)      # Prints \"[[False False]\n",
        "                     #          [ True  True]\n",
        "                     #          [ True  True]]\"\n",
        "\n",
        "# We use boolean array indexing to construct a rank 1 array\n",
        "# consisting of the elements of a corresponding to the True values\n",
        "# of bool_idx\n",
        "print(a[bool_idx])  # Prints \"[3 4 5 6]\"\n",
        "\n",
        "# We can do all of the above in a single concise statement:\n",
        "print(a[a > 2])     # Prints \"[3 4 5 6]\""
      ],
      "execution_count": 0,
      "outputs": []
    },
    {
      "metadata": {
        "id": "GGVLDKMchrRJ",
        "colab_type": "code",
        "colab": {}
      },
      "cell_type": "code",
      "source": [
        "#One useful trick with integer array indexing is selecting or mutating one element from each row of a matrix:\n",
        "\n",
        "import numpy as np\n",
        "\n",
        "# Create a new array from which we will select elements\n",
        "a = np.array([[1,2,3], [4,5,6], [7,8,9], [10, 11, 12]])\n",
        "\n",
        "print(a)  # prints \"array([[ 1,  2,  3],\n",
        "          #                [ 4,  5,  6],\n",
        "          #                [ 7,  8,  9],\n",
        "          #                [10, 11, 12]])\"\n",
        "\n",
        "      \n",
        "print(a.shape)      \n",
        "# Create an array of indices\n",
        "b = np.array([0, 2, 0, 1])\n",
        "\n",
        "# Select one element from each row of a using the indices in b\n",
        "# (0,1,2,3) ([0, 2, 0, 1])\n",
        "print(a[np.arange(4), b])  # Prints \"[ 1  6  7 11]\"\n",
        "\n",
        "# Mutate one element from each row of a using the indices in b\n",
        "a[np.arange(4), b] += 10\n",
        "\n",
        "print(a)  # prints \"array([[11,  2,  3],\n",
        "          #                [ 4,  5, 16],\n",
        "          #                [17,  8,  9],\n",
        "          #                [10, 21, 12]])"
      ],
      "execution_count": 0,
      "outputs": []
    },
    {
      "metadata": {
        "id": "tRv7eTyuplsy",
        "colab_type": "code",
        "colab": {}
      },
      "cell_type": "code",
      "source": [
        "#Numpy provides many useful functions for performing computations on arrays; one of the most useful is sum\n",
        "\n",
        "import numpy as np\n",
        "\n",
        "\n",
        "x = np.array([[1,2],[3,4]])\n",
        "\n",
        "\n",
        "# 1,2\n",
        "# 3,4\n",
        "\n",
        "print(np.sum(x))  # Compute sum of all elements; prints \"10\"\n",
        "print(np.sum(x, axis=0))  # Compute sum of each column; prints \"[4 6]\"\n",
        "print(np.sum(x, axis=1))  # Compute sum of each row; prints \"[3 7]\""
      ],
      "execution_count": 0,
      "outputs": []
    },
    {
      "metadata": {
        "id": "Eb8Vu9UstO21",
        "colab_type": "code",
        "colab": {}
      },
      "cell_type": "code",
      "source": [
        "# Python Program illustrating\n",
        "# numpy.reshape() method\n",
        " \n",
        "import numpy as np\n",
        " \n",
        "array = np.arange(8)\n",
        "print(\"Original array : \\n\", array)\n",
        " \n",
        "# shape array with 2 rows and 2 columns\n",
        "array = np.arange(4).reshape(2, 2)\n",
        "print(\"\\narray reshaped with 2 rows and 2 columns : \\n\", array)\n",
        "\n",
        "# shape array with 4 rows and 2 columns\n",
        "array = np.arange(8).reshape(4, 2)\n",
        "print(\"\\narray reshaped with 4 rows and 2 columns : \\n\", array)\n",
        " \n",
        " \n",
        "# shape array with 2 rows and 4 columns\n",
        "array = np.arange(8).reshape(4 ,2)\n",
        "print(\"\\narray reshaped with 4 rows and 2 columns : \\n\", array)\n",
        " \n",
        "# Constructs 3D array\n",
        "array = np.arange(8).reshape(2, 2, 2)\n",
        "print(\"\\nOriginal array reshaped to 3D : \\n\", array)\n"
      ],
      "execution_count": 0,
      "outputs": []
    },
    {
      "metadata": {
        "id": "TYq3hHJgq2oB",
        "colab_type": "code",
        "colab": {}
      },
      "cell_type": "code",
      "source": [
        "from numpy import array\n",
        "# list of data\n",
        "data = [[11, 22],\n",
        "\t\t[33, 44],\n",
        "\t\t[55, 66]]\n",
        "# array of data\n",
        "data = array(data)\n",
        "print('Rows: %d' % data.shape[0])\n",
        "print('Cols: %d' % data.shape[1])"
      ],
      "execution_count": 0,
      "outputs": []
    },
    {
      "metadata": {
        "id": "cQvq7qW__bS3",
        "colab_type": "code",
        "colab": {}
      },
      "cell_type": "code",
      "source": [
        "\n",
        "# reshape 1D array to 2D Array\n",
        "from numpy import array\n",
        "from numpy import reshape\n",
        "# define array\n",
        "data = array([11, 22, 33, 44, 55])\n",
        "print(data.shape)\n",
        "# reshape\n",
        "print (data.shape[0])\n",
        "data = data.reshape((data.shape[0], 1))\n",
        "print(data.shape)\n",
        "\n",
        "print (data)"
      ],
      "execution_count": 0,
      "outputs": []
    },
    {
      "metadata": {
        "id": "zQwuU-5yvsiV",
        "colab_type": "code",
        "colab": {}
      },
      "cell_type": "code",
      "source": [
        "# A tensor that contains only one number is called a scalar (or scalar tensor, or 0-dimensional tensor, or 0D tensor).\n",
        "# In Numpy, a float32 or float64 number is a scalar tensor (or scalar array).\n",
        "\n",
        "import numpy as np\n",
        "x = np.array(12)\n",
        "print (x.ndim)"
      ],
      "execution_count": 0,
      "outputs": []
    },
    {
      "metadata": {
        "id": "_CGb1e7iwKgk",
        "colab_type": "code",
        "colab": {}
      },
      "cell_type": "code",
      "source": [
        "#An array of numbers is called a vector, or 1D tensor. \n",
        "# A 1D tensor is said to have exactly one axis. Following is a Numpy vector:\n",
        "\n",
        "a = np.array([100, 200, 300])   #Rank 1 array\n",
        "print(a.ndim)             # Prints 1"
      ],
      "execution_count": 0,
      "outputs": []
    },
    {
      "metadata": {
        "id": "Exi8J4VCwvcG",
        "colab_type": "code",
        "colab": {}
      },
      "cell_type": "code",
      "source": [
        "# Matrices (2D tensors)\n",
        "# An array of vectors is a matrix, or 2D tensor.\n",
        "# A matrix has two axes (often referred to rows and columns).\n",
        "# You can visually interpret a matrix as a rectangular grid of numbers. This is a Numpy matrix:\n",
        "\n",
        "x = np.array([[5, 78, 2, 34, 0],\n",
        "                  [6, 79, 3, 35, 1],\n",
        "                  [7, 80, 4, 36, 2]])\n",
        "\n",
        "print (x.ndim)"
      ],
      "execution_count": 0,
      "outputs": []
    },
    {
      "metadata": {
        "id": "xSO9S153xI-f",
        "colab_type": "code",
        "colab": {}
      },
      "cell_type": "code",
      "source": [
        "# If you pack such matrices in a new array, you obtain a 3D tensor, \n",
        "# which you can visually interpret as a cube of numbers. Following is a Numpy 3D tensor\n",
        "\n",
        "x = np.array([[[5, 78, 2, 34, 0],\n",
        "                   [6, 79, 3, 35, 1],\n",
        "                   [7, 80, 4, 36, 2]],\n",
        "                  [[5, 78, 2, 34, 0],\n",
        "                   [6, 79, 3, 35, 1],\n",
        "                   [7, 80, 4, 36, 2]],\n",
        "                  [[5, 78, 2, 34, 0],\n",
        "                   [6, 79, 3, 35, 1],\n",
        "                   [7, 80, 4, 36, 2]]])\n",
        "\n",
        "print (x)\n",
        "\n",
        "print (x.ndim)"
      ],
      "execution_count": 0,
      "outputs": []
    },
    {
      "metadata": {
        "id": "9XRtZNm6xg0x",
        "colab_type": "code",
        "colab": {}
      },
      "cell_type": "code",
      "source": [
        "# In deep learning, you’ll generally manipulate tensors that are 0D to 4D"
      ],
      "execution_count": 0,
      "outputs": []
    },
    {
      "metadata": {
        "id": "vyBUimnIxqSm",
        "colab_type": "code",
        "colab": {}
      },
      "cell_type": "code",
      "source": [
        "from keras.datasets import mnist\n",
        "(train_images, train_labels), (test_images, test_labels) = mnist.load_data()\n",
        "print(train_images.ndim)\n",
        "print(train_images.shape)\n",
        "print(train_images.dtype)\n",
        "\n",
        "#So what we have here is a 3D tensor of 8-bit integers. \n",
        "#More precisely, it’s an array of 60,000 matrices of 28 × 28 integers. \n",
        "#Each such matrix is a grayscale image, with coefficients between 0 and 255."
      ],
      "execution_count": 0,
      "outputs": []
    },
    {
      "metadata": {
        "id": "DfsZPp3yyTj5",
        "colab_type": "text"
      },
      "cell_type": "markdown",
      "source": [
        "Real-world examples of data tensors\n",
        "\n",
        "**Vector data**— 2D tensors of shape (samples, features)\n",
        "\n",
        "**Timeseries data or sequence data**— 3D tensors of shape (samples, timesteps, features)\n",
        "\n",
        "**Images**— 4D tensors of shape (samples, height, width, channels) or (samples, channels, height, width)\n",
        "\n",
        "**Video**— 5D tensors of shape (samples, frames, height, width, channels)\n"
      ]
    },
    {
      "metadata": {
        "id": "CuHujePE5G6u",
        "colab_type": "code",
        "colab": {}
      },
      "cell_type": "code",
      "source": [
        "# The simplest example of this type of operation is transposing a matrix; \n",
        "# to transpose a matrix, simply use the T attribute of an array object:\n",
        "\n",
        "\n",
        "import numpy as np\n",
        "\n",
        "x = np.array([[1,2], [3,4]])\n",
        "print(x)    # Prints \"[[1 2]\n",
        "            #          [3 4]]\"\n",
        "print(x.T)  # Prints \"[[1 3]\n",
        "            #          [2 4]]\"\n",
        "\n",
        "# Note that taking the transpose of a rank 1 array does nothing:\n",
        "v = np.array([1,2,3])\n",
        "print(v)    # Prints \"[1 2 3]\"\n",
        "print(v.T)  # Prints \"[1 2 3]\""
      ],
      "execution_count": 0,
      "outputs": []
    },
    {
      "metadata": {
        "id": "ABd7sb6B-bHm",
        "colab_type": "text"
      },
      "cell_type": "markdown",
      "source": [
        "Broadcasting is a powerful mechanism that allows numpy to work with arrays of different shapes \n",
        "when performing arithmetic operations. \n",
        "Frequently we have a smaller array and a larger array, \n",
        "and we want to use the smaller array multiple times to perform some operation on the larger array.\n",
        "\n",
        "For example, suppose that we want to add a constant vector to each row of a matrix. "
      ]
    },
    {
      "metadata": {
        "id": "bUcWJ8K--Swf",
        "colab_type": "code",
        "colab": {}
      },
      "cell_type": "code",
      "source": [
        "import numpy as np\n",
        "\n",
        "# We will add the vector v to each row of the matrix x,\n",
        "# storing the result in the matrix y\n",
        "x = np.array([[1,2,3], [4,5,6], [7,8,9], [10, 11, 12]])\n",
        "v = np.array([1, 0, 1])\n",
        "y = np.empty_like(x)   # Create an empty matrix with the same shape as x\n",
        "\n",
        "print (y)\n",
        "\n",
        "# Add the vector v to each row of the matrix x with an explicit loop\n",
        "for i in range(4):\n",
        "    y[i, :] = x[i, :] + v\n",
        "\n",
        "# Now y is the following\n",
        "# [[ 2  2  4]\n",
        "#  [ 5  5  7]\n",
        "#  [ 8  8 10]\n",
        "#  [11 11 13]]\n",
        "print(y)\n",
        "\n"
      ],
      "execution_count": 0,
      "outputs": []
    },
    {
      "metadata": {
        "id": "ynvxH6hS-pE_",
        "colab_type": "code",
        "colab": {}
      },
      "cell_type": "code",
      "source": [
        "\n",
        "import numpy as np\n",
        "\n",
        "# We will add the vector v to each row of the matrix x,\n",
        "# storing the result in the matrix y\n",
        "x = np.array([[1,2,3], [4,5,6], [7,8,9], [10, 11, 12]])\n",
        "v = np.array([1, 0, 1])\n",
        "y = x + v  # Add v to each row of x using broadcasting\n",
        "print(y)  # Prints \"[[ 2  2  4]\n",
        "          #          [ 5  5  7]\n",
        "          #          [ 8  8 10]\n",
        "          #          [11 11 13]]\"\n",
        "      \n",
        "#The line y = x + v works even though x has shape (4, 3) \n",
        "#and v has shape (3,) due to broadcasting; this line works as if v actually had shape (4, 3), \n",
        "#where each row was a copy of v, and the sum was performed elementwise.      "
      ],
      "execution_count": 0,
      "outputs": []
    },
    {
      "metadata": {
        "id": "ipLPA88iw4ha",
        "colab_type": "code",
        "colab": {}
      },
      "cell_type": "code",
      "source": [
        ""
      ],
      "execution_count": 0,
      "outputs": []
    },
    {
      "metadata": {
        "id": "sxhNn11pI0uu",
        "colab_type": "text"
      },
      "cell_type": "markdown",
      "source": [
        "# Pandas"
      ]
    },
    {
      "metadata": {
        "id": "Qs0e7blGI80Q",
        "colab_type": "text"
      },
      "cell_type": "markdown",
      "source": [
        "A pandas series is similar to numpy arrays but with more functionality.\n",
        "\n",
        "\n",
        "\n"
      ]
    },
    {
      "metadata": {
        "id": "ZYdAvbD-I5Oj",
        "colab_type": "code",
        "colab": {
          "base_uri": "https://localhost:8080/",
          "height": 185
        },
        "outputId": "e6b1ebeb-dfc4-4780-a9dd-2ae76ffe44e1"
      },
      "cell_type": "code",
      "source": [
        "import numpy as np\n",
        "import pandas as pd\n",
        "\n",
        "a = np.array([1,2,3,4])\n",
        "series = pd.Series([1,2,3,4])\n",
        "\n",
        "\n",
        "print (series.describe(),'\\n')  # These functions are not available in numpy arrays\n",
        "\n",
        "\n",
        "\n",
        "\n"
      ],
      "execution_count": 11,
      "outputs": [
        {
          "output_type": "stream",
          "text": [
            "count    4.000000\n",
            "mean     2.500000\n",
            "std      1.290994\n",
            "min      1.000000\n",
            "25%      1.750000\n",
            "50%      2.500000\n",
            "75%      3.250000\n",
            "max      4.000000\n",
            "dtype: float64 \n",
            "\n"
          ],
          "name": "stdout"
        }
      ]
    },
    {
      "metadata": {
        "id": "HPm82fP1Qn9w",
        "colab_type": "code",
        "colab": {
          "base_uri": "https://localhost:8080/",
          "height": 118
        },
        "outputId": "8729b438-8fc4-461e-b95f-db503c1575e5"
      },
      "cell_type": "code",
      "source": [
        "series = pd.Series([1,2,3,4])\n",
        "print (series[0],'\\n')  # One can access using the same way like numpy array\n",
        "print (series[:2],'\\n')  # same slice notation.\n",
        "\n",
        "\n"
      ],
      "execution_count": 12,
      "outputs": [
        {
          "output_type": "stream",
          "text": [
            "1 \n",
            "\n",
            "0    1\n",
            "1    2\n",
            "dtype: int64 \n",
            "\n"
          ],
          "name": "stdout"
        }
      ]
    },
    {
      "metadata": {
        "id": "bTShAeOgQr2O",
        "colab_type": "code",
        "colab": {
          "base_uri": "https://localhost:8080/",
          "height": 84
        },
        "outputId": "15e754e8-aae2-4b51-991f-4f296ccb46d8"
      },
      "cell_type": "code",
      "source": [
        "series = pd.Series([1,2,3,4])\n",
        "for d in series:\n",
        "  print (d)\n",
        "  \n"
      ],
      "execution_count": 13,
      "outputs": [
        {
          "output_type": "stream",
          "text": [
            "1\n",
            "2\n",
            "3\n",
            "4\n"
          ],
          "name": "stdout"
        }
      ]
    },
    {
      "metadata": {
        "id": "8rneqzH9QtRN",
        "colab_type": "code",
        "colab": {
          "base_uri": "https://localhost:8080/",
          "height": 101
        },
        "outputId": "446208f5-5cd9-4bfc-9a5d-e4e53be171e4"
      },
      "cell_type": "code",
      "source": [
        "series = pd.Series([1,2,3,4])\n",
        "print ('\\n')  \n",
        "\n",
        "print ('mean', series.mean())  \n",
        "print ('std',  series.std())\n",
        "print ('max', series.max())"
      ],
      "execution_count": 14,
      "outputs": [
        {
          "output_type": "stream",
          "text": [
            "\n",
            "\n",
            "mean 2.5\n",
            "std 1.2909944487358056\n",
            "max 4\n"
          ],
          "name": "stdout"
        }
      ]
    },
    {
      "metadata": {
        "id": "A2sCGniWQ9G8",
        "colab_type": "code",
        "colab": {
          "base_uri": "https://localhost:8080/",
          "height": 319
        },
        "outputId": "a8bcf806-4cd7-4ff7-ea04-58daae251b24"
      },
      "cell_type": "code",
      "source": [
        "# Vectorized operations and index arrays\n",
        "a = pd.Series([1, 2, 3, 4])\n",
        "b = pd.Series([1, 2, 1, 2])\n",
        "  \n",
        "print (a + b)\n",
        "print (a * 2)\n",
        "print (a >= 3)\n",
        "print (a[a >= 3])"
      ],
      "execution_count": 15,
      "outputs": [
        {
          "output_type": "stream",
          "text": [
            "0    2\n",
            "1    4\n",
            "2    4\n",
            "3    6\n",
            "dtype: int64\n",
            "0    2\n",
            "1    4\n",
            "2    6\n",
            "3    8\n",
            "dtype: int64\n",
            "0    False\n",
            "1    False\n",
            "2     True\n",
            "3     True\n",
            "dtype: bool\n",
            "2    3\n",
            "3    4\n",
            "dtype: int64\n"
          ],
          "name": "stdout"
        }
      ]
    },
    {
      "metadata": {
        "id": "h8bzyQsMQl6r",
        "colab_type": "code",
        "colab": {
          "base_uri": "https://localhost:8080/",
          "height": 134
        },
        "outputId": "dc3e2fed-aa67-4c27-f788-5e000f310332"
      },
      "cell_type": "code",
      "source": [
        "# Panda Series Index\n",
        "\n",
        "population = pd.Series([1415045928,1354051854,326766748], index = [\"China\", \"India\", \"US\"])\n",
        "\n",
        "print (population,'\\n')\n",
        "\n",
        "# Numpy arrays are like superman version of list\n",
        "# A Panda Series is like a mix of list and dictionary\n",
        "\n",
        "print ('Population[0] =', population [0])\n",
        "print ('Population[\\'India\\']=',population['India'] )"
      ],
      "execution_count": 16,
      "outputs": [
        {
          "output_type": "stream",
          "text": [
            "China    1415045928\n",
            "India    1354051854\n",
            "US        326766748\n",
            "dtype: int64 \n",
            "\n",
            "Population[0] = 1415045928\n",
            "Population['India']= 1354051854\n"
          ],
          "name": "stdout"
        }
      ]
    },
    {
      "metadata": {
        "id": "JA3h5_2ZkNIl",
        "colab_type": "code",
        "colab": {}
      },
      "cell_type": "code",
      "source": [
        "# If no indexes are specified Pandas creates Index\n",
        "numseries = pd.Series([200,400,800])\n",
        "print (numseries)"
      ],
      "execution_count": 0,
      "outputs": []
    },
    {
      "metadata": {
        "id": "dJOV4hXflECE",
        "colab_type": "code",
        "colab": {}
      },
      "cell_type": "code",
      "source": [
        "# iloc\n",
        "population = pd.Series([1415045928,1354051854,326766748], index = [\"China\", \"India\", \"US\"])\n",
        "print (population.iloc[0]) # Accessing using index\n"
      ],
      "execution_count": 0,
      "outputs": []
    },
    {
      "metadata": {
        "id": "ZXz4XYPFllCc",
        "colab_type": "code",
        "colab": {}
      },
      "cell_type": "code",
      "source": [
        "\n",
        "\n",
        "# Finding out maximum population\n",
        "import pandas as pd\n",
        "\n",
        "\n",
        "print (pd.__version__)\n",
        "\n",
        "population = pd.Series(data = [1415045928,1354051854,326766748], index = [\"China\", \"India\", \"US\"])\n",
        "\n",
        "\n",
        "print (\"Country with maximum population =\",population.values.argmax())\n",
        "print (\"The max population is =\",population.iloc[population.values.argmax()])\n",
        "\n",
        "\n"
      ],
      "execution_count": 0,
      "outputs": []
    },
    {
      "metadata": {
        "id": "KobWByuAArzn",
        "colab_type": "code",
        "colab": {}
      },
      "cell_type": "code",
      "source": [
        "import pandas as pd\n",
        "\n",
        "\n",
        "# Addition when indexes are the same\n",
        "s1 = pd.Series([1, 2, 3, 4], index=['a', 'b', 'c', 'd'])\n",
        "s2 = pd.Series([100, 200, 300, 400], index=['a', 'b', 'c', 'd'])\n",
        "print (s1 + s2)\n",
        "\n"
      ],
      "execution_count": 0,
      "outputs": []
    },
    {
      "metadata": {
        "id": "lmnGszVHBJVI",
        "colab_type": "code",
        "colab": {}
      },
      "cell_type": "code",
      "source": [
        "# Indexes have same elements in a different order\n",
        "\n",
        "s1 = pd.Series([1, 2, 3, 4], index=['a', 'b', 'c', 'd'])\n",
        "s2 = pd.Series([100, 200, 300, 400], index=['b', 'd', 'a', 'c'])\n",
        "print (s1 + s2)\n",
        "\n"
      ],
      "execution_count": 0,
      "outputs": []
    },
    {
      "metadata": {
        "id": "nwPTnheBBLAq",
        "colab_type": "code",
        "colab": {}
      },
      "cell_type": "code",
      "source": [
        "# Indexes overlap, but do not have exactly the same elements\n",
        "\n",
        "s1 = pd.Series([1, 2, 3, 4], index=['a', 'b', 'c', 'd'])\n",
        "s2 = pd.Series([100, 200, 300, 400], index=['c', 'd', 'e', 'f'])\n",
        "print (s1 + s2)\n",
        "\n"
      ],
      "execution_count": 0,
      "outputs": []
    },
    {
      "metadata": {
        "id": "am7pW9pvBMTG",
        "colab_type": "code",
        "colab": {}
      },
      "cell_type": "code",
      "source": [
        "# Indexes do not overlap\n",
        "\n",
        "s1 = pd.Series([1, 2, 3, 4], index=['a', 'b', 'c', 'd'])\n",
        "s2 = pd.Series([10, 20, 30, 40], index=['e', 'f', 'g', 'h'])\n",
        "print (s1 + s2)"
      ],
      "execution_count": 0,
      "outputs": []
    },
    {
      "metadata": {
        "id": "tezJLk51BlPk",
        "colab_type": "code",
        "colab": {}
      },
      "cell_type": "code",
      "source": [
        "# Using dropna\n",
        "\n",
        "s1 = pd.Series([1, 2, 3, 4], index=['a', 'b', 'c', 'd'])\n",
        "s2 = pd.Series([10, 20, 30, 40], index=['a', 'b', 'g', 'h'])\n",
        "result  =  s1 + s2\n",
        "print (result.dropna())"
      ],
      "execution_count": 0,
      "outputs": []
    },
    {
      "metadata": {
        "id": "8FJWEYjFCHbs",
        "colab_type": "code",
        "colab": {}
      },
      "cell_type": "code",
      "source": [
        "# Using dropna\n",
        "\n",
        "s1 = pd.Series([1, 2, 3, 4], index=['a', 'b', 'c', 'd'])\n",
        "s2 = pd.Series([10, 20, 30, 40], index=['a', 'b', 'g', 'h'])\n",
        "result  =  s1.add(s2,fill_value=0)\n",
        "print (result.dropna())"
      ],
      "execution_count": 0,
      "outputs": []
    },
    {
      "metadata": {
        "id": "umDyDzKoDLIm",
        "colab_type": "code",
        "colab": {}
      },
      "cell_type": "code",
      "source": [
        "# Using Pandas Apply\n",
        "\n",
        "\n",
        "def make_capital(str):\n",
        "  return str.capitalize()\n",
        "\n",
        "\n",
        "s1 = pd.Series(['india', 'china', 'brazil'], index=['a', 'b', 'c'])\n",
        "s2 = s1.apply(make_capital)\n",
        "\n",
        "print (s2)\n",
        "                \n",
        "                \n",
        "                \n",
        "                \n"
      ],
      "execution_count": 0,
      "outputs": []
    },
    {
      "metadata": {
        "id": "vy-33pQPFihl",
        "colab_type": "code",
        "colab": {}
      },
      "cell_type": "code",
      "source": [
        "# Plotting values\n",
        "population = pd.Series(data = [1415045928,1354051854,326766748], index = [\"China\", \"India\", \"US\"])\n",
        "population.plot()\n"
      ],
      "execution_count": 0,
      "outputs": []
    },
    {
      "metadata": {
        "id": "ZKvfpHQ_HUkb",
        "colab_type": "code",
        "colab": {}
      },
      "cell_type": "code",
      "source": [
        "# Pandas DataFrame\n",
        "\n",
        "import pandas as pd\n",
        "\n",
        "country_df = pd.DataFrame({\n",
        "    'country':['India','China', 'USA'],\n",
        "    'population':[1415045928,1354051854,326766748], \n",
        "    'capital':['Delhi','Bejing','Washington']\n",
        "    \n",
        "})\n",
        "\n",
        "print (country_df,'\\n')\n",
        "\n",
        "print (country_df.mean())\n"
      ],
      "execution_count": 0,
      "outputs": []
    },
    {
      "metadata": {
        "id": "-AQuQBpgLPXm",
        "colab_type": "code",
        "colab": {}
      },
      "cell_type": "code",
      "source": [
        "# Pandas DataFrame\n",
        "\n",
        "import pandas as pd\n",
        "\n",
        "country_df = pd.DataFrame({\n",
        "    'population':[1415045928,1354051854,326766748], \n",
        "    'capital':['Delhi','Bejing','Washington'],\n",
        "    'gdp':[2848231,14092514,20412870]\n",
        "    \n",
        "},\n",
        "index = ['India','China', 'USA'],\n",
        "\n",
        ")\n",
        "\n",
        "print (country_df,'\\n')\n",
        "print (country_df.loc['India'],'\\n')\n",
        "\n",
        "print (country_df.iloc[0])\n"
      ],
      "execution_count": 0,
      "outputs": []
    },
    {
      "metadata": {
        "id": "Zx7y2xn8MmvE",
        "colab_type": "code",
        "colab": {}
      },
      "cell_type": "code",
      "source": [
        "# Pandas DataFrame\n",
        "\n",
        "import pandas as pd\n",
        "\n",
        "country_df = pd.DataFrame({\n",
        "    'population':[1415045928,1354051854,326766748], \n",
        "    'capital':['Delhi','Bejing','Washington'],\n",
        "    'gdp':[2848231,14092514,20412870]\n",
        "    \n",
        "},\n",
        "index = ['India','China', 'USA'],\n",
        "\n",
        ")\n",
        "\n",
        "\n",
        "print (country_df.loc['India','gdp'],'\\n')\n",
        "print (country_df.iloc[0,1],'\\n')"
      ],
      "execution_count": 0,
      "outputs": []
    },
    {
      "metadata": {
        "id": "jVDbbVRINK9a",
        "colab_type": "code",
        "colab": {}
      },
      "cell_type": "code",
      "source": [
        "# Pandas DataFrame\n",
        "\n",
        "import pandas as pd\n",
        "\n",
        "country_df = pd.DataFrame({\n",
        "    'population':[1415045928,1354051854,326766748], \n",
        "    'capital':['Delhi','Bejing','Washington'],\n",
        "    'gdp':[2848231,14092514,20412870]\n",
        "    \n",
        "},\n",
        "index = ['India','China', 'USA'],\n",
        "\n",
        ")\n",
        "\n",
        "print (country_df['gdp'],'\\n')\n",
        "\n"
      ],
      "execution_count": 0,
      "outputs": []
    },
    {
      "metadata": {
        "id": "MMQkvyssNw9j",
        "colab_type": "code",
        "colab": {}
      },
      "cell_type": "code",
      "source": [
        "# Pandas DataFrame output as numpy values\n",
        "\n",
        "import pandas as pd\n",
        "\n",
        "country_df = pd.DataFrame({\n",
        "    'population':[1415045928,1354051854,326766748], \n",
        "    'capital':['Delhi','Bejing','Washington'],\n",
        "    'gdp':[2848231,14092514,20412870]\n",
        "    \n",
        "},\n",
        "index = ['India','China', 'USA'],\n",
        "\n",
        ")\n",
        "\n",
        "print (country_df.values) # output as numpy values\n"
      ],
      "execution_count": 0,
      "outputs": []
    },
    {
      "metadata": {
        "id": "QisumxWbOgFt",
        "colab_type": "code",
        "colab": {}
      },
      "cell_type": "code",
      "source": [
        "# Pandas axis\n",
        "\n",
        "import pandas as pd\n",
        "\n",
        "df = pd.DataFrame({'A': [0, 1, 2], 'B': [3, 4, 5]})\n",
        "\n",
        "print (df,'\\n')\n",
        "\n",
        "print (df.sum(),'\\n')\n",
        "print (df.sum(axis=1),'\\n')\n",
        "print (df.values.sum(),'\\n')"
      ],
      "execution_count": 0,
      "outputs": []
    },
    {
      "metadata": {
        "id": "67WWnFuBRllz",
        "colab_type": "code",
        "colab": {}
      },
      "cell_type": "code",
      "source": [
        "# Vectoroperations for data frames\n",
        "import pandas as pd\n",
        "\n",
        "#Examples of vectorized operations on DataFrames:\n",
        "# Adding DataFrames with the column names\n",
        "\n",
        "df1 = pd.DataFrame({'a': [1, 2, 3], 'b': [4, 5, 6], 'c': [7, 8, 9]})\n",
        "df2 = pd.DataFrame({'a': [10, 20, 30], 'b': [40, 50, 60], 'c': [70, 80, 90]})\n",
        "print (df1 + df2)\n",
        "    \n",
        "# Adding DataFrames with overlapping column names \n",
        "df1 = pd.DataFrame({'a': [1, 2, 3], 'b': [4, 5, 6], 'c': [7, 8, 9]})\n",
        "df2 = pd.DataFrame({'d': [10, 20, 30], 'c': [40, 50, 60], 'b': [70, 80, 90]})\n",
        "print (df1 + df2)\n",
        "\n",
        "# Adding DataFrames with overlapping row indexes\n",
        "df1 = pd.DataFrame({'a': [1, 2, 3], 'b': [4, 5, 6], 'c': [7, 8, 9]},\n",
        "                   index=['row1', 'row2', 'row3'])\n",
        "df2 = pd.DataFrame({'a': [10, 20, 30], 'b': [40, 50, 60], 'c': [70, 80, 90]},\n",
        "                   index=['row4', 'row3', 'row2'])\n",
        "print (df1 + df2)"
      ],
      "execution_count": 0,
      "outputs": []
    },
    {
      "metadata": {
        "id": "RFxzQZ5BSKzz",
        "colab_type": "code",
        "colab": {}
      },
      "cell_type": "code",
      "source": [
        "import pandas as pd\n",
        "\n",
        "\n",
        "# DataFrame applymap()\n",
        "\n",
        "df = pd.DataFrame({\n",
        "    'a': [1, 2, 3],\n",
        "    'b': [10, 20, 30],\n",
        "    'c': [5, 10, 15]\n",
        "})\n",
        "\n",
        "def add_one(x):\n",
        "    return x + 1\n",
        "\n",
        "print (df.applymap(add_one))\n",
        "    "
      ],
      "execution_count": 0,
      "outputs": []
    },
    {
      "metadata": {
        "id": "jV8pGHM0SuWz",
        "colab_type": "code",
        "colab": {}
      },
      "cell_type": "code",
      "source": [
        "import numpy as np\n",
        "import pandas as pd\n",
        "\n",
        "df = pd.DataFrame({\n",
        "    'a': [4, 5, 3, 1, 2],\n",
        "    'b': [20, 10, 40, 50, 30],\n",
        "    'c': [25, 20, 5, 15, 10]\n",
        "})\n",
        "\n",
        "# Change False to True for this block of code to see what it does\n",
        "\n",
        "# DataFrame apply() - use case 2\n",
        "if False:   \n",
        "    print df.apply(np.mean)\n",
        "    print df.apply(np.max)\n",
        "    \n",
        "def second_largest(df):\n",
        "    '''\n",
        "    Fill in this function to return the second-largest value of each \n",
        "    column of the input DataFrame.\n",
        "    '''\n",
        "    return None"
      ],
      "execution_count": 0,
      "outputs": []
    },
    {
      "metadata": {
        "id": "k_oASl7pdOuj",
        "colab_type": "code",
        "colab": {}
      },
      "cell_type": "code",
      "source": [
        ""
      ],
      "execution_count": 0,
      "outputs": []
    },
    {
      "metadata": {
        "id": "cVsH1sOYS_8p",
        "colab_type": "code",
        "colab": {}
      },
      "cell_type": "code",
      "source": [
        "#Adding a DataFrame to a Series\n",
        "\n",
        "import pandas as pd\n",
        "\n",
        "# Change False to True for each block of code to see what it does\n",
        "\n",
        "# Adding a Series to a square DataFrame\n",
        "if False:\n",
        "    s = pd.Series([1, 2, 3, 4])\n",
        "    df = pd.DataFrame({\n",
        "        0: [10, 20, 30, 40],\n",
        "        1: [50, 60, 70, 80],\n",
        "        2: [90, 100, 110, 120],\n",
        "        3: [130, 140, 150, 160]\n",
        "    })\n",
        "    \n",
        "    print df\n",
        "    print '' # Create a blank line between outputs\n",
        "    print df + s\n",
        "    \n",
        "# Adding a Series to a one-row DataFrame \n",
        "if False:\n",
        "    s = pd.Series([1, 2, 3, 4])\n",
        "    df = pd.DataFrame({0: [10], 1: [20], 2: [30], 3: [40]})\n",
        "    \n",
        "    print df\n",
        "    print '' # Create a blank line between outputs\n",
        "    print df + s\n",
        "\n",
        "# Adding a Series to a one-column DataFrame\n",
        "if False:\n",
        "    s = pd.Series([1, 2, 3, 4])\n",
        "    df = pd.DataFrame({0: [10, 20, 30, 40]})\n",
        "    \n",
        "    print df\n",
        "    print '' # Create a blank line between outputs\n",
        "    print df + s\n",
        "    \n",
        "\n",
        "    \n",
        "# Adding when DataFrame column names match Series index\n",
        "if False:\n",
        "    s = pd.Series([1, 2, 3, 4], index=['a', 'b', 'c', 'd'])\n",
        "    df = pd.DataFrame({\n",
        "        'a': [10, 20, 30, 40],\n",
        "        'b': [50, 60, 70, 80],\n",
        "        'c': [90, 100, 110, 120],\n",
        "        'd': [130, 140, 150, 160]\n",
        "    })\n",
        "    \n",
        "    print df\n",
        "    print '' # Create a blank line between outputs\n",
        "    print df + s\n",
        "    \n",
        "# Adding when DataFrame column names don't match Series index\n",
        "if False:\n",
        "    s = pd.Series([1, 2, 3, 4])\n",
        "    df = pd.DataFrame({\n",
        "        'a': [10, 20, 30, 40],\n",
        "        'b': [50, 60, 70, 80],\n",
        "        'c': [90, 100, 110, 120],\n",
        "        'd': [130, 140, 150, 160]\n",
        "    })\n",
        "    \n",
        "    print df\n",
        "    print '' # Create a blank line between outputs\n",
        "    print df + s"
      ],
      "execution_count": 0,
      "outputs": []
    },
    {
      "metadata": {
        "id": "BTS1e4LGRn4n",
        "colab_type": "code",
        "colab": {}
      },
      "cell_type": "code",
      "source": [
        "!pip install gspread\n",
        "\n",
        "from google.colab import auth\n",
        "auth.authenticate_user()\n",
        "\n",
        "import gspread\n",
        "from oauth2client.client import GoogleCredentials\n",
        "\n",
        "gc = gspread.authorize(GoogleCredentials.get_application_default())\n",
        "\n",
        "# Open our new sheet and read some data.\n",
        "worksheet = gc.open('Pandas DataSheet').sheet1\n",
        "\n",
        "# get_all_values gives a list of rows.\n",
        "rows = worksheet.get_all_values()\n",
        "#print(rows)\n",
        "\n",
        "# Convert to a DataFrame and render.\n",
        "import pandas as pd\n",
        "df = pd.DataFrame.from_records(rows)\n",
        "\n",
        "header = df.iloc[0] #Replace the header value with the first row’s values\n",
        "df = df[1:]    # Replace the dataframe with a new one which does not contain the first row\n",
        "\n",
        "\n",
        "# Rename the dataframe's column values with the header variable\n",
        "df = df.rename(columns = header)\n",
        "\n",
        "print (\"\\n\",df)\n"
      ],
      "execution_count": 0,
      "outputs": []
    },
    {
      "metadata": {
        "id": "OYYePiU2o8Ni",
        "colab_type": "code",
        "colab": {}
      },
      "cell_type": "code",
      "source": [
        "# Reading from a CSV.\n",
        "\n",
        "import pandas as pd\n",
        "\n",
        "df = pd.read_csv('https://raw.githubusercontent.com/datasciencemastery/data-sets/master/data_sheet.csv',sep = ',', error_bad_lines=False)\n",
        "print(df)"
      ],
      "execution_count": 0,
      "outputs": []
    },
    {
      "metadata": {
        "id": "22phqvIZpAlh",
        "colab_type": "code",
        "colab": {}
      },
      "cell_type": "code",
      "source": [
        ""
      ],
      "execution_count": 0,
      "outputs": []
    }
  ]
}